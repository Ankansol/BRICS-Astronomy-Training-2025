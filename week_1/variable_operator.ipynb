{
 "cells": [
  {
   "cell_type": "markdown",
   "id": "c0ea88a7-39fa-4033-9706-11ad4b9f7999",
   "metadata": {},
   "source": [
    "# **Variable & Operator**\n",
    "## BRICS Astronomy Training 2025 \n",
    "\n",
    "This notebook contain my solution for the exercises given at BRICS Training Program For Astronomy 2025.<br>This exercises were given for week 1 session on variables and operators."
   ]
  },
  {
   "cell_type": "markdown",
   "id": "674fde69-4058-41b9-b869-06868e610053",
   "metadata": {},
   "source": [
    "**Exercises**"
   ]
  },
  {
   "cell_type": "markdown",
   "id": "685fd980-1c91-4171-996c-79134d6ebddf",
   "metadata": {},
   "source": [
    "**Variables**\n",
    "1. How would you create a variable named planet_name and store the text \"Jupiter\" in it?\n",
    "2. How would you create a variable named distance_to_sun and store the number 149.6 (representing million kilometers) in it?\n",
    "3. If you have a variable star_temp = 5500, how would you change its value to 6000?\n",
    "4. How would you create a variable named is_gas_giant and set it to True (representing that Jupiter is a gas giant)?\n",
    "5. If you have the variable moon_count = 2, how would you print a message like: \"Mars has 2 moons.\" using this variable?\n",
    "6. Is Number Of Stars a good variable name in Python? Why or why not?\n",
    "How would you create a variable called galaxy_type and store the text \"Spiral\" in it?"
   ]
  },
  {
   "cell_type": "code",
   "execution_count": 9,
   "id": "36ba9225-4ef4-4cd1-baf5-0af771ad4b3b",
   "metadata": {},
   "outputs": [
    {
     "name": "stdout",
     "output_type": "stream",
     "text": [
      "Answer 1: Jupiter <class 'str'>\n",
      "Answer 2: 149.6\n",
      "Answer 3: 6000\n",
      "Answer 4: True <class 'bool'>\n",
      "Answer 5: Mars has 2 moons\n",
      "Answer 6 Spiral <class 'str'>\n"
     ]
    }
   ],
   "source": [
    "#Answer 1\n",
    "planet_name = 'Jupiter'\n",
    "print('Answer 1:', planet_name, type(planet_name))\n",
    "\n",
    "#Answer 2\n",
    "distance_to_sun = 149.6\n",
    "print('Answer 2:', distance_to_sun)\n",
    "\n",
    "#Answer 3\n",
    "star_temp = 5500\n",
    "star_temp = 6000\n",
    "print('Answer 3:', star_temp)\n",
    "\n",
    "#Answer 4\n",
    "is_gas_giant = True\n",
    "print('Answer 4:', is_gas_giant, type(is_gas_giant))\n",
    "\n",
    "#Answer 5\n",
    "moon_count = 2\n",
    "print(f\"Answer 5: Mars has {moon_count} moons\")\n",
    "\n",
    "#Answer 6\n",
    "#NumberOfStar, no its not a good variable , we cant use space so we should use underscore for easy readability and it is unnecessary long, instead we can write num_of_star or num_star.\n",
    "galaxy_type ='Spiral'\n",
    "print('Answer 6', galaxy_type, type(galaxy_type))"
   ]
  },
  {
   "cell_type": "markdown",
   "id": "b75c2e15-9621-4e11-8f6d-4484cc32d4f0",
   "metadata": {},
   "source": [
    "**Operators**\n",
    "1. Subtraction: Earth is 1.0 AU from the Sun, Mars is 1.52 AU. How would you calculate the difference between Mars's distance and Earth's distance using the subtraction operator (-)?\n",
    "2. Multiplication: Jupiter's orbit takes 11.86 Earth years. An Earth year is 365.25 days. How would you calculate Jupiter's orbital period in days using the multiplication operator (*)?\n",
    "3. Assignment (+=): If a variable jupiter_moons currently holds the value 79, how would you use the += operator to add 3 more moons to it?\n",
    "4. Comparison (>): Venus's temperature is 462 degrees, Earth's is 15. How would you check if Venus's temperature is greater than Earth's using the > operator? (What is the result?)\n",
    "5. Comparison (==): If you have a variable galaxy_type = \"Spiral\", how would you check if its value is exactly equal to \"Elliptical\" using the == operator? (What is the result?)\n",
    "6. Logical (and): A planet needs has_water = True AND atmosphere_ok = False to be habitable (simple rule). How would you use the and operator to see if both conditions are met? (What is the result?)\n",
    "7. Logical (or): Observing is possible if is_night = True OR is_solar_telescope = False. How would you use the or operator to see if at least one of these conditions is met? (What is the result?)\n",
    "8. Multiple Arithmetic: Proxima Centauri is 4.24 light-years away (distance_ly). One light-year is 9.461e12 km (km_per_ly). How would you first calculate the total distance in km (distance_km) and then print it?"
   ]
  },
  {
   "cell_type": "code",
   "execution_count": 16,
   "id": "258b9aa2-3d7f-4f7d-a05a-b4ed057f23c9",
   "metadata": {},
   "outputs": [
    {
     "name": "stdout",
     "output_type": "stream",
     "text": [
      "Answer 1: 0.52 AU\n",
      "Answer 2: 4331.865 Days\n",
      "Answer 3: 82\n",
      "Answer 4: This planet venus is hotter!\n",
      "Asnwer 5: False\n",
      "Answer 6: False\n",
      "Answer 7: True\n",
      "Answer 8: Total distance is 40114640000000.0 Km\n"
     ]
    }
   ],
   "source": [
    "#Answer 1\n",
    "earth_dist = 1.0\n",
    "mars_dist = 1.52\n",
    "difference = mars_dist - earth_dist\n",
    "print('Answer 1:', difference,'AU')\n",
    "\n",
    "#Answer 2\n",
    "jupiter_days = 11.86*365.25\n",
    "print('Answer 2:', jupiter_days,'Days')\n",
    "\n",
    "#Answer 3\n",
    "jupiter_moons = 79\n",
    "jupiter_moons+= 3\n",
    "print('Answer 3:', jupiter_moons)\n",
    "\n",
    "#Answer 4\n",
    "venus_temp = 462\n",
    "earth_temp = 15\n",
    "\n",
    "if venus_temp>earth_temp:\n",
    "    print(\"Answer 4: This planet venus is hotter!\")\n",
    "else:\n",
    "    print(\"Answer 4: This planet Earth is hotter!\")\n",
    "\n",
    "#Answer 5\n",
    "galaxy_type = 'Spiral'\n",
    "elliptical = galaxy_type =='Elliptical'\n",
    "print('Asnwer 5:',elliptical)\n",
    "\n",
    "#Answer 6\n",
    "has_water = True\n",
    "atmosphere_ok = False\n",
    "habitable = has_water and atmosphere_ok\n",
    "print('Answer 6:', habitable)\n",
    "\n",
    "#Answer 7\n",
    "is_night = True\n",
    "is_solar_telescope = False\n",
    "observing_possible = is_night or is_solar_telescope\n",
    "print('Answer 7:', observing_possible)\n",
    "\n",
    "#Answer 8\n",
    "distance_ly = 4.24\n",
    "km_per_ly = 9.461e12\n",
    "total_distance = distance_ly * km_per_ly\n",
    "print('Answer 8:', f'Total distance is {total_distance} Km')"
   ]
  }
 ],
 "metadata": {
  "kernelspec": {
   "display_name": "Python 3 (ipykernel)",
   "language": "python",
   "name": "python3"
  },
  "language_info": {
   "codemirror_mode": {
    "name": "ipython",
    "version": 3
   },
   "file_extension": ".py",
   "mimetype": "text/x-python",
   "name": "python",
   "nbconvert_exporter": "python",
   "pygments_lexer": "ipython3",
   "version": "3.12.3"
  }
 },
 "nbformat": 4,
 "nbformat_minor": 5
}
